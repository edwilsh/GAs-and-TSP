{
 "cells": [
  {
   "cell_type": "code",
   "execution_count": 41,
   "metadata": {},
   "outputs": [],
   "source": [
    "import folium\n",
    "from folium.plugins import MarkerCluster\n",
    "import pandas as pd"
   ]
  },
  {
   "cell_type": "code",
   "execution_count": 42,
   "metadata": {},
   "outputs": [
    {
     "data": {
      "text/plain": [
       "<folium.map.Marker at 0x2818efa75c0>"
      ]
     },
     "execution_count": 42,
     "metadata": {},
     "output_type": "execute_result"
    }
   ],
   "source": [
    "# Base Map\n",
    "map = folium.Map(location=[37.296933,-121.9574983], zoom_start = 8, tiles='CartoDB dark_matter')\n",
    "# Add Marker\n",
    "folium.Marker(location=[37.4074687,-122.086669], popup='Google HQ', icon=folium.Icon(color='green')).add_to(map)"
   ]
  },
  {
   "cell_type": "code",
   "execution_count": 43,
   "metadata": {},
   "outputs": [],
   "source": [
    "# Import volcano data\n",
    "df = pd.read_csv('data/Volcanoes_USA.txt')"
   ]
  },
  {
   "cell_type": "code",
   "execution_count": 44,
   "metadata": {},
   "outputs": [
    {
     "data": {
      "text/html": [
       "<div>\n",
       "<style scoped>\n",
       "    .dataframe tbody tr th:only-of-type {\n",
       "        vertical-align: middle;\n",
       "    }\n",
       "\n",
       "    .dataframe tbody tr th {\n",
       "        vertical-align: top;\n",
       "    }\n",
       "\n",
       "    .dataframe thead th {\n",
       "        text-align: right;\n",
       "    }\n",
       "</style>\n",
       "<table border=\"1\" class=\"dataframe\">\n",
       "  <thead>\n",
       "    <tr style=\"text-align: right;\">\n",
       "      <th></th>\n",
       "      <th>VOLCANX020</th>\n",
       "      <th>NUMBER</th>\n",
       "      <th>NAME</th>\n",
       "      <th>LOCATION</th>\n",
       "      <th>STATUS</th>\n",
       "      <th>ELEV</th>\n",
       "      <th>TYPE</th>\n",
       "      <th>TIMEFRAME</th>\n",
       "      <th>LAT</th>\n",
       "      <th>LON</th>\n",
       "    </tr>\n",
       "  </thead>\n",
       "  <tbody>\n",
       "    <tr>\n",
       "      <th>0</th>\n",
       "      <td>509.0</td>\n",
       "      <td>1201-01=</td>\n",
       "      <td>Baker</td>\n",
       "      <td>US-Washington</td>\n",
       "      <td>Historical</td>\n",
       "      <td>3285.0</td>\n",
       "      <td>Stratovolcanoes</td>\n",
       "      <td>D3</td>\n",
       "      <td>48.776798</td>\n",
       "      <td>-121.810997</td>\n",
       "    </tr>\n",
       "    <tr>\n",
       "      <th>1</th>\n",
       "      <td>511.0</td>\n",
       "      <td>1201-02-</td>\n",
       "      <td>Glacier Peak</td>\n",
       "      <td>US-Washington</td>\n",
       "      <td>Tephrochronology</td>\n",
       "      <td>3213.0</td>\n",
       "      <td>Stratovolcano</td>\n",
       "      <td>D4</td>\n",
       "      <td>48.111801</td>\n",
       "      <td>-121.111000</td>\n",
       "    </tr>\n",
       "    <tr>\n",
       "      <th>2</th>\n",
       "      <td>513.0</td>\n",
       "      <td>1201-03-</td>\n",
       "      <td>Rainier</td>\n",
       "      <td>US-Washington</td>\n",
       "      <td>Dendrochronology</td>\n",
       "      <td>4392.0</td>\n",
       "      <td>Stratovolcano</td>\n",
       "      <td>D3</td>\n",
       "      <td>46.869801</td>\n",
       "      <td>-121.751000</td>\n",
       "    </tr>\n",
       "    <tr>\n",
       "      <th>3</th>\n",
       "      <td>515.0</td>\n",
       "      <td>1201-05-</td>\n",
       "      <td>St. Helens</td>\n",
       "      <td>US-Washington</td>\n",
       "      <td>Historical</td>\n",
       "      <td>2549.0</td>\n",
       "      <td>Stratovolcano</td>\n",
       "      <td>D1</td>\n",
       "      <td>46.199799</td>\n",
       "      <td>-122.181000</td>\n",
       "    </tr>\n",
       "    <tr>\n",
       "      <th>4</th>\n",
       "      <td>516.0</td>\n",
       "      <td>1201-04-</td>\n",
       "      <td>Adams</td>\n",
       "      <td>US-Washington</td>\n",
       "      <td>Tephrochronology</td>\n",
       "      <td>3742.0</td>\n",
       "      <td>Stratovolcano</td>\n",
       "      <td>D6</td>\n",
       "      <td>46.205799</td>\n",
       "      <td>-121.490997</td>\n",
       "    </tr>\n",
       "  </tbody>\n",
       "</table>\n",
       "</div>"
      ],
      "text/plain": [
       "   VOLCANX020    NUMBER          NAME       LOCATION            STATUS  \\\n",
       "0       509.0  1201-01=         Baker  US-Washington        Historical   \n",
       "1       511.0  1201-02-  Glacier Peak  US-Washington  Tephrochronology   \n",
       "2       513.0  1201-03-       Rainier  US-Washington  Dendrochronology   \n",
       "3       515.0  1201-05-    St. Helens  US-Washington        Historical   \n",
       "4       516.0  1201-04-         Adams  US-Washington  Tephrochronology   \n",
       "\n",
       "     ELEV             TYPE TIMEFRAME        LAT         LON  \n",
       "0  3285.0  Stratovolcanoes        D3  48.776798 -121.810997  \n",
       "1  3213.0    Stratovolcano        D4  48.111801 -121.111000  \n",
       "2  4392.0    Stratovolcano        D3  46.869801 -121.751000  \n",
       "3  2549.0    Stratovolcano        D1  46.199799 -122.181000  \n",
       "4  3742.0    Stratovolcano        D6  46.205799 -121.490997  "
      ]
     },
     "execution_count": 44,
     "metadata": {},
     "output_type": "execute_result"
    }
   ],
   "source": [
    "df.head()"
   ]
  },
  {
   "cell_type": "code",
   "execution_count": 45,
   "metadata": {},
   "outputs": [],
   "source": [
    "lat = df['LAT']\n",
    "lon = df['LON']\n",
    "elevation = df['ELEV']"
   ]
  },
  {
   "cell_type": "code",
   "execution_count": 46,
   "metadata": {},
   "outputs": [],
   "source": [
    "# Set color by elevation\n",
    "def color_change(elev):\n",
    "    if(elev < 1000):\n",
    "        return('green')\n",
    "    elif(1000 <= elev < 3000):\n",
    "        return('orange')\n",
    "    else:\n",
    "        return('red')"
   ]
  },
  {
   "cell_type": "code",
   "execution_count": 47,
   "metadata": {},
   "outputs": [],
   "source": [
    "for lat, lon, elevation in zip(lat, lon, elevation):\n",
    "    folium.CircleMarker(location=[lat,lon], radius = 9, popup=str(elevation)+'m', fill_opacity = 0.9, fill_color = color_change(elevation)).add_to(map)"
   ]
  },
  {
   "cell_type": "code",
   "execution_count": null,
   "metadata": {},
   "outputs": [],
   "source": []
  },
  {
   "cell_type": "code",
   "execution_count": 48,
   "metadata": {},
   "outputs": [],
   "source": [
    "map.save('map1.html')"
   ]
  },
  {
   "cell_type": "code",
   "execution_count": null,
   "metadata": {},
   "outputs": [],
   "source": []
  }
 ],
 "metadata": {
  "kernelspec": {
   "display_name": "Python 3",
   "language": "python",
   "name": "python3"
  },
  "language_info": {
   "codemirror_mode": {
    "name": "ipython",
    "version": 3
   },
   "file_extension": ".py",
   "mimetype": "text/x-python",
   "name": "python",
   "nbconvert_exporter": "python",
   "pygments_lexer": "ipython3",
   "version": "3.7.0"
  }
 },
 "nbformat": 4,
 "nbformat_minor": 2
}
